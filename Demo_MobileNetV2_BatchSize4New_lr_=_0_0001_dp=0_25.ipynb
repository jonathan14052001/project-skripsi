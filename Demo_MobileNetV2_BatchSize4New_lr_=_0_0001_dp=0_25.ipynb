{
  "cells": [
    {
      "cell_type": "markdown",
      "source": [
        "Import library dan pemanggilan dataset di lokal"
      ],
      "metadata": {
        "id": "EHTba__pGLwD"
      }
    },
    {
      "cell_type": "code",
      "execution_count": null,
      "metadata": {
        "id": "PLy3pthUS0D2",
        "outputId": "fe81ec94-16d3-4dc9-a03a-acde3a26b4b3"
      },
      "outputs": [
        {
          "data": {
            "text/plain": [
              "['Critical', 'Good']"
            ]
          },
          "execution_count": 1,
          "metadata": {},
          "output_type": "execute_result"
        }
      ],
      "source": [
        "import os\n",
        "import numpy as np\n",
        "import pandas as pd\n",
        "import matplotlib.pyplot as plt\n",
        "data_dir = 'C:/Users/User/Documents/Dataset Skripsi/peluru-fix/trainval'\n",
        "os.listdir(data_dir)"
      ]
    },
    {
      "cell_type": "markdown",
      "source": [
        "Intall GPU version of tensorflow"
      ],
      "metadata": {
        "id": "PE4Vjn7eGVQl"
      }
    },
    {
      "cell_type": "code",
      "execution_count": null,
      "metadata": {
        "id": "9-CozbhdRaOA",
        "outputId": "fcc21d1b-213c-49aa-d011-9b3ec85ac6f1",
        "colab": {
          "base_uri": "https://localhost:8080/"
        }
      },
      "outputs": [
        {
          "output_type": "stream",
          "name": "stdout",
          "text": [
            "Default GPU Device:  /device:GPU:0\n"
          ]
        }
      ],
      "source": [
        "import tensorflow as tf\n",
        "if tf.test.gpu_device_name():\n",
        "    print('Default GPU Device:  {}'.format(tf.test.gpu_device_name()))\n",
        "\n",
        "else:\n",
        "    print(\"Please install GPU version of TF\")"
      ]
    },
    {
      "cell_type": "markdown",
      "source": [
        "Mengecheck GPU yang aviable"
      ],
      "metadata": {
        "id": "Y_drVHgkGcj_"
      }
    },
    {
      "cell_type": "code",
      "execution_count": null,
      "metadata": {
        "id": "OaskBe24RaOA",
        "outputId": "5d4427fe-3f5b-456c-8885-6265d0e1b486"
      },
      "outputs": [
        {
          "name": "stdout",
          "output_type": "stream",
          "text": [
            "Num GPUs Available:  0\n"
          ]
        }
      ],
      "source": [
        "import tensorflow as tf\n",
        "print(\"Num GPUs Available: \", len(tf.config.experimental.list_physical_devices('GPU')))"
      ]
    },
    {
      "cell_type": "markdown",
      "source": [
        "Proses mempersiapkan dataset dan augmentasi data serta membuat flow datanya"
      ],
      "metadata": {
        "id": "1Wb_y18FGiph"
      }
    },
    {
      "cell_type": "code",
      "execution_count": null,
      "metadata": {
        "id": "MLZKVtE0dSfk",
        "outputId": "97b315f6-c94a-4371-93ea-22b26ecc5add",
        "colab": {
          "base_uri": "https://localhost:8080/"
        }
      },
      "outputs": [
        {
          "output_type": "stream",
          "name": "stdout",
          "text": [
            "Found 1587 images belonging to 2 classes.\n",
            "Found 199 images belonging to 2 classes.\n"
          ]
        }
      ],
      "source": [
        "from tensorflow.keras.preprocessing.image import ImageDataGenerator\n",
        "\n",
        "image_size = (224, 224)\n",
        "batch_size = 4\n",
        "\n",
        "train_datagen = ImageDataGenerator( rescale=1./255, validation_split=0.112,\n",
        "                                    horizontal_flip = True,\n",
        "                                    vertical_flip = True,\n",
        "                                    brightness_range = (0.5, 2)\n",
        "                                  )\n",
        "\n",
        "train_generator = train_datagen.flow_from_directory(\n",
        "        data_dir, seed=10,\n",
        "        target_size=image_size,\n",
        "        batch_size=batch_size,\n",
        "        subset='training',\n",
        "        class_mode='binary')\n",
        "\n",
        "validation_generator = train_datagen.flow_from_directory(\n",
        "        data_dir, seed=10,\n",
        "        target_size=image_size,\n",
        "        batch_size=batch_size,\n",
        "        subset='validation',\n",
        "        class_mode='binary')"
      ]
    },
    {
      "cell_type": "markdown",
      "source": [
        "Melakukan convert Keras generator ke NumpyArray"
      ],
      "metadata": {
        "id": "z29U8DPtG1dw"
      }
    },
    {
      "cell_type": "code",
      "execution_count": null,
      "metadata": {
        "id": "UgoaaG5iRaOB"
      },
      "outputs": [],
      "source": [
        "def get_array(generator, y_only=True):\n",
        "    data_listX = []\n",
        "    data_listY = []\n",
        "    batch_index = 0\n",
        "    while batch_index <= generator.batch_index:\n",
        "        data = generator.next()\n",
        "        if not y_only:\n",
        "            data_listX.append(data[0])\n",
        "        data_listY.append(data[1])\n",
        "        batch_index = batch_index + 1\n",
        "    if not y_only:\n",
        "        return np.concatenate(data_listX,0), np.concatenate(data_listY,0)\n",
        "    return np.concatenate(data_listY,0)\n",
        "# now, data_array is the numeric data of whole images label\n",
        "X_train, y_train = get_array(train_generator, y_only=False)\n",
        "X_valid, y_valid = get_array(validation_generator, y_only=False)"
      ]
    },
    {
      "cell_type": "markdown",
      "source": [
        "Membuat struktur convolution neural network menggunakan mobilenetv2"
      ],
      "metadata": {
        "id": "Sa89ijWKHEsH"
      }
    },
    {
      "cell_type": "code",
      "execution_count": null,
      "metadata": {
        "id": "IYVLSfbsbf9K"
      },
      "outputs": [],
      "source": [
        "from tensorflow.keras import layers\n",
        "from tensorflow.keras import Model\n",
        "from tensorflow.keras.callbacks import ModelCheckpoint"
      ]
    },
    {
      "cell_type": "code",
      "execution_count": null,
      "metadata": {
        "colab": {
          "base_uri": "https://localhost:8080/"
        },
        "id": "S6y_ITpAZ3zE",
        "outputId": "18090a3d-ed4d-49e5-c5a6-88c1bf7781a6"
      },
      "outputs": [
        {
          "name": "stdout",
          "output_type": "stream",
          "text": [
            "WARNING:tensorflow:`input_shape` is undefined or non-square, or `rows` is not in [96, 128, 160, 192, 224]. Weights for input shape (224, 224) will be loaded as the default.\n"
          ]
        }
      ],
      "source": [
        "from tensorflow.keras.applications import MobileNetV2, mobilenet_v2\n",
        "\n",
        "inputs = layers.Input(shape=(*image_size,3))\n",
        "backbone = mobilenet_v2.MobileNetV2(include_top=False, input_tensor=inputs, weights='imagenet')\n",
        "x = backbone.output\n",
        "x = layers.GlobalAveragePooling2D()(x)\n",
        "x = layers.BatchNormalization()(x)\n",
        "x = layers.Dense(256, activation='relu6')(x)\n",
        "x = layers.Dropout(0.25)(x)\n",
        "outputs = layers.Dense(1, activation='sigmoid')(x)\n",
        "\n",
        "model = Model(inputs, outputs)"
      ]
    },
    {
      "cell_type": "code",
      "execution_count": null,
      "metadata": {
        "colab": {
          "base_uri": "https://localhost:8080/"
        },
        "id": "7ZKj8392nbgP",
        "outputId": "01a328b9-acb4-4457-bcf6-45c1816ccf98"
      },
      "outputs": [
        {
          "name": "stdout",
          "output_type": "stream",
          "text": [
            "Model: \"model\"\n",
            "__________________________________________________________________________________________________\n",
            " Layer (type)                   Output Shape         Param #     Connected to                     \n",
            "==================================================================================================\n",
            " input_1 (InputLayer)           [(None, 224, 224, 3  0           []                               \n",
            "                                )]                                                                \n",
            "                                                                                                  \n",
            " Conv1 (Conv2D)                 (None, 112, 112, 32  864         ['input_1[0][0]']                \n",
            "                                )                                                                 \n",
            "                                                                                                  \n",
            " bn_Conv1 (BatchNormalization)  (None, 112, 112, 32  128         ['Conv1[0][0]']                  \n",
            "                                )                                                                 \n",
            "                                                                                                  \n",
            " Conv1_relu (ReLU)              (None, 112, 112, 32  0           ['bn_Conv1[0][0]']               \n",
            "                                )                                                                 \n",
            "                                                                                                  \n",
            " expanded_conv_depthwise (Depth  (None, 112, 112, 32  288        ['Conv1_relu[0][0]']             \n",
            " wiseConv2D)                    )                                                                 \n",
            "                                                                                                  \n",
            " expanded_conv_depthwise_BN (Ba  (None, 112, 112, 32  128        ['expanded_conv_depthwise[0][0]']\n",
            " tchNormalization)              )                                                                 \n",
            "                                                                                                  \n",
            " expanded_conv_depthwise_relu (  (None, 112, 112, 32  0          ['expanded_conv_depthwise_BN[0][0\n",
            " ReLU)                          )                                ]']                              \n",
            "                                                                                                  \n",
            " expanded_conv_project (Conv2D)  (None, 112, 112, 16  512        ['expanded_conv_depthwise_relu[0]\n",
            "                                )                                [0]']                            \n",
            "                                                                                                  \n",
            " expanded_conv_project_BN (Batc  (None, 112, 112, 16  64         ['expanded_conv_project[0][0]']  \n",
            " hNormalization)                )                                                                 \n",
            "                                                                                                  \n",
            " block_1_expand (Conv2D)        (None, 112, 112, 96  1536        ['expanded_conv_project_BN[0][0]'\n",
            "                                )                                ]                                \n",
            "                                                                                                  \n",
            " block_1_expand_BN (BatchNormal  (None, 112, 112, 96  384        ['block_1_expand[0][0]']         \n",
            " ization)                       )                                                                 \n",
            "                                                                                                  \n",
            " block_1_expand_relu (ReLU)     (None, 112, 112, 96  0           ['block_1_expand_BN[0][0]']      \n",
            "                                )                                                                 \n",
            "                                                                                                  \n",
            " block_1_pad (ZeroPadding2D)    (None, 113, 113, 96  0           ['block_1_expand_relu[0][0]']    \n",
            "                                )                                                                 \n",
            "                                                                                                  \n",
            " block_1_depthwise (DepthwiseCo  (None, 56, 56, 96)  864         ['block_1_pad[0][0]']            \n",
            " nv2D)                                                                                            \n",
            "                                                                                                  \n",
            " block_1_depthwise_BN (BatchNor  (None, 56, 56, 96)  384         ['block_1_depthwise[0][0]']      \n",
            " malization)                                                                                      \n",
            "                                                                                                  \n",
            " block_1_depthwise_relu (ReLU)  (None, 56, 56, 96)   0           ['block_1_depthwise_BN[0][0]']   \n",
            "                                                                                                  \n",
            " block_1_project (Conv2D)       (None, 56, 56, 24)   2304        ['block_1_depthwise_relu[0][0]'] \n",
            "                                                                                                  \n",
            " block_1_project_BN (BatchNorma  (None, 56, 56, 24)  96          ['block_1_project[0][0]']        \n",
            " lization)                                                                                        \n",
            "                                                                                                  \n",
            " block_2_expand (Conv2D)        (None, 56, 56, 144)  3456        ['block_1_project_BN[0][0]']     \n",
            "                                                                                                  \n",
            " block_2_expand_BN (BatchNormal  (None, 56, 56, 144)  576        ['block_2_expand[0][0]']         \n",
            " ization)                                                                                         \n",
            "                                                                                                  \n",
            " block_2_expand_relu (ReLU)     (None, 56, 56, 144)  0           ['block_2_expand_BN[0][0]']      \n",
            "                                                                                                  \n",
            " block_2_depthwise (DepthwiseCo  (None, 56, 56, 144)  1296       ['block_2_expand_relu[0][0]']    \n",
            " nv2D)                                                                                            \n",
            "                                                                                                  \n",
            " block_2_depthwise_BN (BatchNor  (None, 56, 56, 144)  576        ['block_2_depthwise[0][0]']      \n",
            " malization)                                                                                      \n",
            "                                                                                                  \n",
            " block_2_depthwise_relu (ReLU)  (None, 56, 56, 144)  0           ['block_2_depthwise_BN[0][0]']   \n",
            "                                                                                                  \n",
            " block_2_project (Conv2D)       (None, 56, 56, 24)   3456        ['block_2_depthwise_relu[0][0]'] \n",
            "                                                                                                  \n",
            " block_2_project_BN (BatchNorma  (None, 56, 56, 24)  96          ['block_2_project[0][0]']        \n",
            " lization)                                                                                        \n",
            "                                                                                                  \n",
            " block_2_add (Add)              (None, 56, 56, 24)   0           ['block_1_project_BN[0][0]',     \n",
            "                                                                  'block_2_project_BN[0][0]']     \n",
            "                                                                                                  \n",
            " block_3_expand (Conv2D)        (None, 56, 56, 144)  3456        ['block_2_add[0][0]']            \n",
            "                                                                                                  \n",
            " block_3_expand_BN (BatchNormal  (None, 56, 56, 144)  576        ['block_3_expand[0][0]']         \n",
            " ization)                                                                                         \n",
            "                                                                                                  \n",
            " block_3_expand_relu (ReLU)     (None, 56, 56, 144)  0           ['block_3_expand_BN[0][0]']      \n",
            "                                                                                                  \n",
            " block_3_pad (ZeroPadding2D)    (None, 57, 57, 144)  0           ['block_3_expand_relu[0][0]']    \n",
            "                                                                                                  \n",
            " block_3_depthwise (DepthwiseCo  (None, 28, 28, 144)  1296       ['block_3_pad[0][0]']            \n",
            " nv2D)                                                                                            \n",
            "                                                                                                  \n",
            " block_3_depthwise_BN (BatchNor  (None, 28, 28, 144)  576        ['block_3_depthwise[0][0]']      \n",
            " malization)                                                                                      \n",
            "                                                                                                  \n",
            " block_3_depthwise_relu (ReLU)  (None, 28, 28, 144)  0           ['block_3_depthwise_BN[0][0]']   \n",
            "                                                                                                  \n",
            " block_3_project (Conv2D)       (None, 28, 28, 32)   4608        ['block_3_depthwise_relu[0][0]'] \n",
            "                                                                                                  \n",
            " block_3_project_BN (BatchNorma  (None, 28, 28, 32)  128         ['block_3_project[0][0]']        \n",
            " lization)                                                                                        \n",
            "                                                                                                  \n",
            " block_4_expand (Conv2D)        (None, 28, 28, 192)  6144        ['block_3_project_BN[0][0]']     \n",
            "                                                                                                  \n",
            " block_4_expand_BN (BatchNormal  (None, 28, 28, 192)  768        ['block_4_expand[0][0]']         \n",
            " ization)                                                                                         \n",
            "                                                                                                  \n",
            " block_4_expand_relu (ReLU)     (None, 28, 28, 192)  0           ['block_4_expand_BN[0][0]']      \n",
            "                                                                                                  \n",
            " block_4_depthwise (DepthwiseCo  (None, 28, 28, 192)  1728       ['block_4_expand_relu[0][0]']    \n",
            " nv2D)                                                                                            \n",
            "                                                                                                  \n",
            " block_4_depthwise_BN (BatchNor  (None, 28, 28, 192)  768        ['block_4_depthwise[0][0]']      \n",
            " malization)                                                                                      \n",
            "                                                                                                  \n",
            " block_4_depthwise_relu (ReLU)  (None, 28, 28, 192)  0           ['block_4_depthwise_BN[0][0]']   \n",
            "                                                                                                  \n",
            " block_4_project (Conv2D)       (None, 28, 28, 32)   6144        ['block_4_depthwise_relu[0][0]'] \n",
            "                                                                                                  \n",
            " block_4_project_BN (BatchNorma  (None, 28, 28, 32)  128         ['block_4_project[0][0]']        \n",
            " lization)                                                                                        \n",
            "                                                                                                  \n",
            " block_4_add (Add)              (None, 28, 28, 32)   0           ['block_3_project_BN[0][0]',     \n",
            "                                                                  'block_4_project_BN[0][0]']     \n",
            "                                                                                                  \n",
            " block_5_expand (Conv2D)        (None, 28, 28, 192)  6144        ['block_4_add[0][0]']            \n",
            "                                                                                                  \n",
            " block_5_expand_BN (BatchNormal  (None, 28, 28, 192)  768        ['block_5_expand[0][0]']         \n",
            " ization)                                                                                         \n",
            "                                                                                                  \n",
            " block_5_expand_relu (ReLU)     (None, 28, 28, 192)  0           ['block_5_expand_BN[0][0]']      \n",
            "                                                                                                  \n",
            " block_5_depthwise (DepthwiseCo  (None, 28, 28, 192)  1728       ['block_5_expand_relu[0][0]']    \n",
            " nv2D)                                                                                            \n",
            "                                                                                                  \n",
            " block_5_depthwise_BN (BatchNor  (None, 28, 28, 192)  768        ['block_5_depthwise[0][0]']      \n",
            " malization)                                                                                      \n",
            "                                                                                                  \n",
            " block_5_depthwise_relu (ReLU)  (None, 28, 28, 192)  0           ['block_5_depthwise_BN[0][0]']   \n",
            "                                                                                                  \n",
            " block_5_project (Conv2D)       (None, 28, 28, 32)   6144        ['block_5_depthwise_relu[0][0]'] \n",
            "                                                                                                  \n",
            " block_5_project_BN (BatchNorma  (None, 28, 28, 32)  128         ['block_5_project[0][0]']        \n",
            " lization)                                                                                        \n",
            "                                                                                                  \n",
            " block_5_add (Add)              (None, 28, 28, 32)   0           ['block_4_add[0][0]',            \n",
            "                                                                  'block_5_project_BN[0][0]']     \n",
            "                                                                                                  \n",
            " block_6_expand (Conv2D)        (None, 28, 28, 192)  6144        ['block_5_add[0][0]']            \n",
            "                                                                                                  \n",
            " block_6_expand_BN (BatchNormal  (None, 28, 28, 192)  768        ['block_6_expand[0][0]']         \n",
            " ization)                                                                                         \n",
            "                                                                                                  \n",
            " block_6_expand_relu (ReLU)     (None, 28, 28, 192)  0           ['block_6_expand_BN[0][0]']      \n",
            "                                                                                                  \n",
            " block_6_pad (ZeroPadding2D)    (None, 29, 29, 192)  0           ['block_6_expand_relu[0][0]']    \n",
            "                                                                                                  \n",
            " block_6_depthwise (DepthwiseCo  (None, 14, 14, 192)  1728       ['block_6_pad[0][0]']            \n",
            " nv2D)                                                                                            \n",
            "                                                                                                  \n",
            " block_6_depthwise_BN (BatchNor  (None, 14, 14, 192)  768        ['block_6_depthwise[0][0]']      \n",
            " malization)                                                                                      \n",
            "                                                                                                  \n",
            " block_6_depthwise_relu (ReLU)  (None, 14, 14, 192)  0           ['block_6_depthwise_BN[0][0]']   \n",
            "                                                                                                  \n",
            " block_6_project (Conv2D)       (None, 14, 14, 64)   12288       ['block_6_depthwise_relu[0][0]'] \n",
            "                                                                                                  \n",
            " block_6_project_BN (BatchNorma  (None, 14, 14, 64)  256         ['block_6_project[0][0]']        \n",
            " lization)                                                                                        \n",
            "                                                                                                  \n",
            " block_7_expand (Conv2D)        (None, 14, 14, 384)  24576       ['block_6_project_BN[0][0]']     \n",
            "                                                                                                  \n",
            " block_7_expand_BN (BatchNormal  (None, 14, 14, 384)  1536       ['block_7_expand[0][0]']         \n",
            " ization)                                                                                         \n",
            "                                                                                                  \n",
            " block_7_expand_relu (ReLU)     (None, 14, 14, 384)  0           ['block_7_expand_BN[0][0]']      \n",
            "                                                                                                  \n",
            " block_7_depthwise (DepthwiseCo  (None, 14, 14, 384)  3456       ['block_7_expand_relu[0][0]']    \n",
            " nv2D)                                                                                            \n",
            "                                                                                                  \n",
            " block_7_depthwise_BN (BatchNor  (None, 14, 14, 384)  1536       ['block_7_depthwise[0][0]']      \n",
            " malization)                                                                                      \n",
            "                                                                                                  \n",
            " block_7_depthwise_relu (ReLU)  (None, 14, 14, 384)  0           ['block_7_depthwise_BN[0][0]']   \n",
            "                                                                                                  \n",
            " block_7_project (Conv2D)       (None, 14, 14, 64)   24576       ['block_7_depthwise_relu[0][0]'] \n",
            "                                                                                                  \n",
            " block_7_project_BN (BatchNorma  (None, 14, 14, 64)  256         ['block_7_project[0][0]']        \n",
            " lization)                                                                                        \n",
            "                                                                                                  \n",
            " block_7_add (Add)              (None, 14, 14, 64)   0           ['block_6_project_BN[0][0]',     \n",
            "                                                                  'block_7_project_BN[0][0]']     \n",
            "                                                                                                  \n",
            " block_8_expand (Conv2D)        (None, 14, 14, 384)  24576       ['block_7_add[0][0]']            \n",
            "                                                                                                  \n",
            " block_8_expand_BN (BatchNormal  (None, 14, 14, 384)  1536       ['block_8_expand[0][0]']         \n",
            " ization)                                                                                         \n",
            "                                                                                                  \n",
            " block_8_expand_relu (ReLU)     (None, 14, 14, 384)  0           ['block_8_expand_BN[0][0]']      \n",
            "                                                                                                  \n",
            " block_8_depthwise (DepthwiseCo  (None, 14, 14, 384)  3456       ['block_8_expand_relu[0][0]']    \n",
            " nv2D)                                                                                            \n",
            "                                                                                                  \n",
            " block_8_depthwise_BN (BatchNor  (None, 14, 14, 384)  1536       ['block_8_depthwise[0][0]']      \n",
            " malization)                                                                                      \n",
            "                                                                                                  \n",
            " block_8_depthwise_relu (ReLU)  (None, 14, 14, 384)  0           ['block_8_depthwise_BN[0][0]']   \n",
            "                                                                                                  \n",
            " block_8_project (Conv2D)       (None, 14, 14, 64)   24576       ['block_8_depthwise_relu[0][0]'] \n",
            "                                                                                                  \n",
            " block_8_project_BN (BatchNorma  (None, 14, 14, 64)  256         ['block_8_project[0][0]']        \n",
            " lization)                                                                                        \n",
            "                                                                                                  \n",
            " block_8_add (Add)              (None, 14, 14, 64)   0           ['block_7_add[0][0]',            \n",
            "                                                                  'block_8_project_BN[0][0]']     \n",
            "                                                                                                  \n",
            " block_9_expand (Conv2D)        (None, 14, 14, 384)  24576       ['block_8_add[0][0]']            \n",
            "                                                                                                  \n",
            " block_9_expand_BN (BatchNormal  (None, 14, 14, 384)  1536       ['block_9_expand[0][0]']         \n",
            " ization)                                                                                         \n",
            "                                                                                                  \n",
            " block_9_expand_relu (ReLU)     (None, 14, 14, 384)  0           ['block_9_expand_BN[0][0]']      \n",
            "                                                                                                  \n",
            " block_9_depthwise (DepthwiseCo  (None, 14, 14, 384)  3456       ['block_9_expand_relu[0][0]']    \n",
            " nv2D)                                                                                            \n",
            "                                                                                                  \n",
            " block_9_depthwise_BN (BatchNor  (None, 14, 14, 384)  1536       ['block_9_depthwise[0][0]']      \n",
            " malization)                                                                                      \n",
            "                                                                                                  \n",
            " block_9_depthwise_relu (ReLU)  (None, 14, 14, 384)  0           ['block_9_depthwise_BN[0][0]']   \n",
            "                                                                                                  \n",
            " block_9_project (Conv2D)       (None, 14, 14, 64)   24576       ['block_9_depthwise_relu[0][0]'] \n",
            "                                                                                                  \n",
            " block_9_project_BN (BatchNorma  (None, 14, 14, 64)  256         ['block_9_project[0][0]']        \n",
            " lization)                                                                                        \n",
            "                                                                                                  \n",
            " block_9_add (Add)              (None, 14, 14, 64)   0           ['block_8_add[0][0]',            \n",
            "                                                                  'block_9_project_BN[0][0]']     \n",
            "                                                                                                  \n",
            " block_10_expand (Conv2D)       (None, 14, 14, 384)  24576       ['block_9_add[0][0]']            \n",
            "                                                                                                  \n",
            " block_10_expand_BN (BatchNorma  (None, 14, 14, 384)  1536       ['block_10_expand[0][0]']        \n",
            " lization)                                                                                        \n",
            "                                                                                                  \n",
            " block_10_expand_relu (ReLU)    (None, 14, 14, 384)  0           ['block_10_expand_BN[0][0]']     \n",
            "                                                                                                  \n",
            " block_10_depthwise (DepthwiseC  (None, 14, 14, 384)  3456       ['block_10_expand_relu[0][0]']   \n",
            " onv2D)                                                                                           \n",
            "                                                                                                  \n",
            " block_10_depthwise_BN (BatchNo  (None, 14, 14, 384)  1536       ['block_10_depthwise[0][0]']     \n",
            " rmalization)                                                                                     \n",
            "                                                                                                  \n",
            " block_10_depthwise_relu (ReLU)  (None, 14, 14, 384)  0          ['block_10_depthwise_BN[0][0]']  \n",
            "                                                                                                  \n",
            " block_10_project (Conv2D)      (None, 14, 14, 96)   36864       ['block_10_depthwise_relu[0][0]']\n",
            "                                                                                                  \n",
            " block_10_project_BN (BatchNorm  (None, 14, 14, 96)  384         ['block_10_project[0][0]']       \n",
            " alization)                                                                                       \n",
            "                                                                                                  \n",
            " block_11_expand (Conv2D)       (None, 14, 14, 576)  55296       ['block_10_project_BN[0][0]']    \n",
            "                                                                                                  \n",
            " block_11_expand_BN (BatchNorma  (None, 14, 14, 576)  2304       ['block_11_expand[0][0]']        \n",
            " lization)                                                                                        \n",
            "                                                                                                  \n",
            " block_11_expand_relu (ReLU)    (None, 14, 14, 576)  0           ['block_11_expand_BN[0][0]']     \n",
            "                                                                                                  \n",
            " block_11_depthwise (DepthwiseC  (None, 14, 14, 576)  5184       ['block_11_expand_relu[0][0]']   \n",
            " onv2D)                                                                                           \n",
            "                                                                                                  \n",
            " block_11_depthwise_BN (BatchNo  (None, 14, 14, 576)  2304       ['block_11_depthwise[0][0]']     \n",
            " rmalization)                                                                                     \n",
            "                                                                                                  \n",
            " block_11_depthwise_relu (ReLU)  (None, 14, 14, 576)  0          ['block_11_depthwise_BN[0][0]']  \n",
            "                                                                                                  \n",
            " block_11_project (Conv2D)      (None, 14, 14, 96)   55296       ['block_11_depthwise_relu[0][0]']\n",
            "                                                                                                  \n",
            " block_11_project_BN (BatchNorm  (None, 14, 14, 96)  384         ['block_11_project[0][0]']       \n",
            " alization)                                                                                       \n",
            "                                                                                                  \n",
            " block_11_add (Add)             (None, 14, 14, 96)   0           ['block_10_project_BN[0][0]',    \n",
            "                                                                  'block_11_project_BN[0][0]']    \n",
            "                                                                                                  \n",
            " block_12_expand (Conv2D)       (None, 14, 14, 576)  55296       ['block_11_add[0][0]']           \n",
            "                                                                                                  \n",
            " block_12_expand_BN (BatchNorma  (None, 14, 14, 576)  2304       ['block_12_expand[0][0]']        \n",
            " lization)                                                                                        \n",
            "                                                                                                  \n",
            " block_12_expand_relu (ReLU)    (None, 14, 14, 576)  0           ['block_12_expand_BN[0][0]']     \n",
            "                                                                                                  \n",
            " block_12_depthwise (DepthwiseC  (None, 14, 14, 576)  5184       ['block_12_expand_relu[0][0]']   \n",
            " onv2D)                                                                                           \n",
            "                                                                                                  \n",
            " block_12_depthwise_BN (BatchNo  (None, 14, 14, 576)  2304       ['block_12_depthwise[0][0]']     \n",
            " rmalization)                                                                                     \n",
            "                                                                                                  \n",
            " block_12_depthwise_relu (ReLU)  (None, 14, 14, 576)  0          ['block_12_depthwise_BN[0][0]']  \n",
            "                                                                                                  \n",
            " block_12_project (Conv2D)      (None, 14, 14, 96)   55296       ['block_12_depthwise_relu[0][0]']\n",
            "                                                                                                  \n",
            " block_12_project_BN (BatchNorm  (None, 14, 14, 96)  384         ['block_12_project[0][0]']       \n",
            " alization)                                                                                       \n",
            "                                                                                                  \n",
            " block_12_add (Add)             (None, 14, 14, 96)   0           ['block_11_add[0][0]',           \n",
            "                                                                  'block_12_project_BN[0][0]']    \n",
            "                                                                                                  \n",
            " block_13_expand (Conv2D)       (None, 14, 14, 576)  55296       ['block_12_add[0][0]']           \n",
            "                                                                                                  \n",
            " block_13_expand_BN (BatchNorma  (None, 14, 14, 576)  2304       ['block_13_expand[0][0]']        \n",
            " lization)                                                                                        \n",
            "                                                                                                  \n",
            " block_13_expand_relu (ReLU)    (None, 14, 14, 576)  0           ['block_13_expand_BN[0][0]']     \n",
            "                                                                                                  \n",
            " block_13_pad (ZeroPadding2D)   (None, 15, 15, 576)  0           ['block_13_expand_relu[0][0]']   \n",
            "                                                                                                  \n",
            " block_13_depthwise (DepthwiseC  (None, 7, 7, 576)   5184        ['block_13_pad[0][0]']           \n",
            " onv2D)                                                                                           \n",
            "                                                                                                  \n",
            " block_13_depthwise_BN (BatchNo  (None, 7, 7, 576)   2304        ['block_13_depthwise[0][0]']     \n",
            " rmalization)                                                                                     \n",
            "                                                                                                  \n",
            " block_13_depthwise_relu (ReLU)  (None, 7, 7, 576)   0           ['block_13_depthwise_BN[0][0]']  \n",
            "                                                                                                  \n",
            " block_13_project (Conv2D)      (None, 7, 7, 160)    92160       ['block_13_depthwise_relu[0][0]']\n",
            "                                                                                                  \n",
            " block_13_project_BN (BatchNorm  (None, 7, 7, 160)   640         ['block_13_project[0][0]']       \n",
            " alization)                                                                                       \n",
            "                                                                                                  \n",
            " block_14_expand (Conv2D)       (None, 7, 7, 960)    153600      ['block_13_project_BN[0][0]']    \n",
            "                                                                                                  \n",
            " block_14_expand_BN (BatchNorma  (None, 7, 7, 960)   3840        ['block_14_expand[0][0]']        \n",
            " lization)                                                                                        \n",
            "                                                                                                  \n",
            " block_14_expand_relu (ReLU)    (None, 7, 7, 960)    0           ['block_14_expand_BN[0][0]']     \n",
            "                                                                                                  \n",
            " block_14_depthwise (DepthwiseC  (None, 7, 7, 960)   8640        ['block_14_expand_relu[0][0]']   \n",
            " onv2D)                                                                                           \n",
            "                                                                                                  \n",
            " block_14_depthwise_BN (BatchNo  (None, 7, 7, 960)   3840        ['block_14_depthwise[0][0]']     \n",
            " rmalization)                                                                                     \n",
            "                                                                                                  \n",
            " block_14_depthwise_relu (ReLU)  (None, 7, 7, 960)   0           ['block_14_depthwise_BN[0][0]']  \n",
            "                                                                                                  \n",
            " block_14_project (Conv2D)      (None, 7, 7, 160)    153600      ['block_14_depthwise_relu[0][0]']\n",
            "                                                                                                  \n",
            " block_14_project_BN (BatchNorm  (None, 7, 7, 160)   640         ['block_14_project[0][0]']       \n",
            " alization)                                                                                       \n",
            "                                                                                                  \n",
            " block_14_add (Add)             (None, 7, 7, 160)    0           ['block_13_project_BN[0][0]',    \n",
            "                                                                  'block_14_project_BN[0][0]']    \n",
            "                                                                                                  \n",
            " block_15_expand (Conv2D)       (None, 7, 7, 960)    153600      ['block_14_add[0][0]']           \n",
            "                                                                                                  \n",
            " block_15_expand_BN (BatchNorma  (None, 7, 7, 960)   3840        ['block_15_expand[0][0]']        \n",
            " lization)                                                                                        \n",
            "                                                                                                  \n",
            " block_15_expand_relu (ReLU)    (None, 7, 7, 960)    0           ['block_15_expand_BN[0][0]']     \n",
            "                                                                                                  \n",
            " block_15_depthwise (DepthwiseC  (None, 7, 7, 960)   8640        ['block_15_expand_relu[0][0]']   \n",
            " onv2D)                                                                                           \n",
            "                                                                                                  \n",
            " block_15_depthwise_BN (BatchNo  (None, 7, 7, 960)   3840        ['block_15_depthwise[0][0]']     \n",
            " rmalization)                                                                                     \n",
            "                                                                                                  \n",
            " block_15_depthwise_relu (ReLU)  (None, 7, 7, 960)   0           ['block_15_depthwise_BN[0][0]']  \n",
            "                                                                                                  \n",
            " block_15_project (Conv2D)      (None, 7, 7, 160)    153600      ['block_15_depthwise_relu[0][0]']\n",
            "                                                                                                  \n",
            " block_15_project_BN (BatchNorm  (None, 7, 7, 160)   640         ['block_15_project[0][0]']       \n",
            " alization)                                                                                       \n",
            "                                                                                                  \n",
            " block_15_add (Add)             (None, 7, 7, 160)    0           ['block_14_add[0][0]',           \n",
            "                                                                  'block_15_project_BN[0][0]']    \n",
            "                                                                                                  \n",
            " block_16_expand (Conv2D)       (None, 7, 7, 960)    153600      ['block_15_add[0][0]']           \n",
            "                                                                                                  \n",
            " block_16_expand_BN (BatchNorma  (None, 7, 7, 960)   3840        ['block_16_expand[0][0]']        \n",
            " lization)                                                                                        \n",
            "                                                                                                  \n",
            " block_16_expand_relu (ReLU)    (None, 7, 7, 960)    0           ['block_16_expand_BN[0][0]']     \n",
            "                                                                                                  \n",
            " block_16_depthwise (DepthwiseC  (None, 7, 7, 960)   8640        ['block_16_expand_relu[0][0]']   \n",
            " onv2D)                                                                                           \n",
            "                                                                                                  \n",
            " block_16_depthwise_BN (BatchNo  (None, 7, 7, 960)   3840        ['block_16_depthwise[0][0]']     \n",
            " rmalization)                                                                                     \n",
            "                                                                                                  \n",
            " block_16_depthwise_relu (ReLU)  (None, 7, 7, 960)   0           ['block_16_depthwise_BN[0][0]']  \n",
            "                                                                                                  \n",
            " block_16_project (Conv2D)      (None, 7, 7, 320)    307200      ['block_16_depthwise_relu[0][0]']\n",
            "                                                                                                  \n",
            " block_16_project_BN (BatchNorm  (None, 7, 7, 320)   1280        ['block_16_project[0][0]']       \n",
            " alization)                                                                                       \n",
            "                                                                                                  \n",
            " Conv_1 (Conv2D)                (None, 7, 7, 1280)   409600      ['block_16_project_BN[0][0]']    \n",
            "                                                                                                  \n",
            " Conv_1_bn (BatchNormalization)  (None, 7, 7, 1280)  5120        ['Conv_1[0][0]']                 \n",
            "                                                                                                  \n",
            " out_relu (ReLU)                (None, 7, 7, 1280)   0           ['Conv_1_bn[0][0]']              \n",
            "                                                                                                  \n",
            " global_average_pooling2d (Glob  (None, 1280)        0           ['out_relu[0][0]']               \n",
            " alAveragePooling2D)                                                                              \n",
            "                                                                                                  \n",
            " batch_normalization (BatchNorm  (None, 1280)        5120        ['global_average_pooling2d[0][0]'\n",
            " alization)                                                      ]                                \n",
            "                                                                                                  \n",
            " dense (Dense)                  (None, 256)          327936      ['batch_normalization[0][0]']    \n",
            "                                                                                                  \n",
            " dropout (Dropout)              (None, 256)          0           ['dense[0][0]']                  \n",
            "                                                                                                  \n",
            " dense_1 (Dense)                (None, 1)            257         ['dropout[0][0]']                \n",
            "                                                                                                  \n",
            "==================================================================================================\n",
            "Total params: 2,591,297\n",
            "Trainable params: 2,554,625\n",
            "Non-trainable params: 36,672\n",
            "__________________________________________________________________________________________________\n"
          ]
        }
      ],
      "source": [
        "model.summary()"
      ]
    },
    {
      "cell_type": "markdown",
      "source": [
        "Compile model"
      ],
      "metadata": {
        "id": "np0sHbDjHXLB"
      }
    },
    {
      "cell_type": "code",
      "execution_count": null,
      "metadata": {
        "colab": {
          "base_uri": "https://localhost:8080/"
        },
        "id": "8DHWhFP_uhq3",
        "outputId": "4a10bc47-fdb6-49fc-9635-95c1bdfc3627"
      },
      "outputs": [
        {
          "name": "stderr",
          "output_type": "stream",
          "text": [
            "C:\\Users\\User\\anaconda3\\envs\\ammoqc\\lib\\site-packages\\keras\\optimizer_v2\\adam.py:105: UserWarning: The `lr` argument is deprecated, use `learning_rate` instead.\n",
            "  super(Adam, self).__init__(name, **kwargs)\n"
          ]
        }
      ],
      "source": [
        "from tensorflow.keras.optimizers import RMSprop, Adam\n",
        "from tensorflow.keras.metrics import TruePositives, TrueNegatives, FalsePositives, FalseNegatives\n",
        "\n",
        "model.compile(loss='binary_crossentropy',\n",
        "              optimizer=Adam(lr=0.0001),\n",
        "              metrics=['acc','AUC', TruePositives(name='TP'), TrueNegatives(name='TN'), FalsePositives(name='FP'), FalseNegatives(name='FN')])\n",
        "\n",
        "# checkpoint\n",
        "filepath=\"1.h5\"\n",
        "checkpoint = ModelCheckpoint(filepath, monitor='val_TP', verbose=1, save_best_only=True, mode='max')\n",
        "callbacks_list = [checkpoint]"
      ]
    },
    {
      "cell_type": "markdown",
      "metadata": {
        "id": "mu3Jdwkjwax4"
      },
      "source": [
        "### Training"
      ]
    },
    {
      "cell_type": "markdown",
      "source": [
        "Proses training model"
      ],
      "metadata": {
        "id": "iDJqj6aSHi-9"
      }
    },
    {
      "cell_type": "code",
      "execution_count": null,
      "metadata": {
        "id": "MKVJExjURaOE"
      },
      "outputs": [],
      "source": [
        "from sklearn.utils import class_weight\n",
        "class_weights = class_weight.compute_class_weight(\n",
        "    class_weight='balanced', classes=np.unique(y_train), y = y_train)\n",
        "class_weights = dict(enumerate(class_weights))"
      ]
    },
    {
      "cell_type": "code",
      "execution_count": null,
      "metadata": {
        "colab": {
          "base_uri": "https://localhost:8080/"
        },
        "id": "Fb1_lgobv81m",
        "outputId": "a527efca-4b6c-44e9-a752-fcd74f8df0a2",
        "scrolled": true
      },
      "outputs": [
        {
          "name": "stdout",
          "output_type": "stream",
          "text": [
            "Epoch 1/25\n",
            "\n",
            "Epoch 1: val_TP improved from -inf to 22.00000, saving model to weights_best_resnet.h5\n",
            "33/33 - 12s - loss: 0.6529 - acc: 0.7348 - auc: 0.7906 - TP: 73.0000 - TN: 24.0000 - FP: 16.0000 - FN: 19.0000 - val_loss: 0.4285 - val_acc: 0.8750 - val_auc: 0.9841 - val_TP: 22.0000 - val_TN: 6.0000 - val_FP: 4.0000 - val_FN: 0.0000e+00 - 12s/epoch - 366ms/step\n",
            "Epoch 2/25\n",
            "\n",
            "Epoch 2: val_TP did not improve from 22.00000\n",
            "33/33 - 13s - loss: 0.1922 - acc: 0.9242 - auc: 0.9804 - TP: 84.0000 - TN: 38.0000 - FP: 2.0000 - FN: 8.0000 - val_loss: 0.4114 - val_acc: 0.7188 - val_auc: 0.9841 - val_TP: 22.0000 - val_TN: 1.0000 - val_FP: 9.0000 - val_FN: 0.0000e+00 - 13s/epoch - 397ms/step\n",
            "Epoch 3/25\n",
            "\n",
            "Epoch 3: val_TP did not improve from 22.00000\n",
            "33/33 - 13s - loss: 0.2033 - acc: 0.9091 - auc: 0.9732 - TP: 86.0000 - TN: 34.0000 - FP: 6.0000 - FN: 6.0000 - val_loss: 0.3818 - val_acc: 0.6875 - val_auc: 1.0000 - val_TP: 22.0000 - val_TN: 0.0000e+00 - val_FP: 10.0000 - val_FN: 0.0000e+00 - 13s/epoch - 391ms/step\n",
            "Epoch 4/25\n",
            "\n",
            "Epoch 4: val_TP did not improve from 22.00000\n",
            "33/33 - 13s - loss: 0.1310 - acc: 0.9470 - auc: 0.9917 - TP: 86.0000 - TN: 39.0000 - FP: 1.0000 - FN: 6.0000 - val_loss: 0.3544 - val_acc: 0.7812 - val_auc: 0.9886 - val_TP: 22.0000 - val_TN: 3.0000 - val_FP: 7.0000 - val_FN: 0.0000e+00 - 13s/epoch - 394ms/step\n",
            "Epoch 5/25\n",
            "\n",
            "Epoch 5: val_TP did not improve from 22.00000\n",
            "33/33 - 13s - loss: 0.1171 - acc: 0.9621 - auc: 0.9950 - TP: 88.0000 - TN: 39.0000 - FP: 1.0000 - FN: 4.0000 - val_loss: 0.5317 - val_acc: 0.7500 - val_auc: 0.9886 - val_TP: 22.0000 - val_TN: 2.0000 - val_FP: 8.0000 - val_FN: 0.0000e+00 - 13s/epoch - 381ms/step\n",
            "Epoch 6/25\n",
            "\n",
            "Epoch 6: val_TP did not improve from 22.00000\n",
            "33/33 - 12s - loss: 0.0714 - acc: 0.9621 - auc: 0.9984 - TP: 88.0000 - TN: 39.0000 - FP: 1.0000 - FN: 4.0000 - val_loss: 0.2695 - val_acc: 0.8438 - val_auc: 1.0000 - val_TP: 22.0000 - val_TN: 5.0000 - val_FP: 5.0000 - val_FN: 0.0000e+00 - 12s/epoch - 372ms/step\n",
            "Epoch 7/25\n",
            "\n",
            "Epoch 7: val_TP did not improve from 22.00000\n",
            "33/33 - 12s - loss: 0.0574 - acc: 0.9697 - auc: 0.9999 - TP: 88.0000 - TN: 40.0000 - FP: 0.0000e+00 - FN: 4.0000 - val_loss: 0.3541 - val_acc: 0.8125 - val_auc: 1.0000 - val_TP: 22.0000 - val_TN: 4.0000 - val_FP: 6.0000 - val_FN: 0.0000e+00 - 12s/epoch - 370ms/step\n",
            "Epoch 8/25\n",
            "\n",
            "Epoch 8: val_TP did not improve from 22.00000\n",
            "33/33 - 11s - loss: 0.0681 - acc: 0.9848 - auc: 0.9978 - TP: 90.0000 - TN: 40.0000 - FP: 0.0000e+00 - FN: 2.0000 - val_loss: 0.4411 - val_acc: 0.8125 - val_auc: 1.0000 - val_TP: 22.0000 - val_TN: 4.0000 - val_FP: 6.0000 - val_FN: 0.0000e+00 - 11s/epoch - 322ms/step\n",
            "Epoch 9/25\n",
            "\n",
            "Epoch 9: val_TP did not improve from 22.00000\n",
            "33/33 - 9s - loss: 0.0502 - acc: 0.9924 - auc: 1.0000 - TP: 91.0000 - TN: 40.0000 - FP: 0.0000e+00 - FN: 1.0000 - val_loss: 0.4928 - val_acc: 0.8125 - val_auc: 0.9955 - val_TP: 22.0000 - val_TN: 4.0000 - val_FP: 6.0000 - val_FN: 0.0000e+00 - 9s/epoch - 270ms/step\n",
            "Epoch 10/25\n",
            "\n",
            "Epoch 10: val_TP did not improve from 22.00000\n",
            "33/33 - 9s - loss: 0.1033 - acc: 0.9924 - auc: 0.9887 - TP: 92.0000 - TN: 39.0000 - FP: 1.0000 - FN: 0.0000e+00 - val_loss: 0.1650 - val_acc: 0.9688 - val_auc: 0.9818 - val_TP: 22.0000 - val_TN: 9.0000 - val_FP: 1.0000 - val_FN: 0.0000e+00 - 9s/epoch - 278ms/step\n",
            "Epoch 11/25\n",
            "\n",
            "Epoch 11: val_TP did not improve from 22.00000\n",
            "33/33 - 7s - loss: 0.0858 - acc: 0.9848 - auc: 0.9947 - TP: 91.0000 - TN: 39.0000 - FP: 1.0000 - FN: 1.0000 - val_loss: 0.4988 - val_acc: 0.8125 - val_auc: 0.9409 - val_TP: 22.0000 - val_TN: 4.0000 - val_FP: 6.0000 - val_FN: 0.0000e+00 - 7s/epoch - 221ms/step\n",
            "Epoch 12/25\n",
            "\n",
            "Epoch 12: val_TP did not improve from 22.00000\n",
            "33/33 - 11s - loss: 0.1549 - acc: 0.9773 - auc: 0.9766 - TP: 91.0000 - TN: 38.0000 - FP: 2.0000 - FN: 1.0000 - val_loss: 0.3635 - val_acc: 0.8750 - val_auc: 0.9886 - val_TP: 22.0000 - val_TN: 6.0000 - val_FP: 4.0000 - val_FN: 0.0000e+00 - 11s/epoch - 342ms/step\n",
            "Epoch 13/25\n",
            "\n",
            "Epoch 13: val_TP did not improve from 22.00000\n",
            "33/33 - 12s - loss: 0.0284 - acc: 0.9924 - auc: 1.0000 - TP: 91.0000 - TN: 40.0000 - FP: 0.0000e+00 - FN: 1.0000 - val_loss: 0.3200 - val_acc: 0.8750 - val_auc: 1.0000 - val_TP: 22.0000 - val_TN: 6.0000 - val_FP: 4.0000 - val_FN: 0.0000e+00 - 12s/epoch - 367ms/step\n",
            "Epoch 14/25\n",
            "\n",
            "Epoch 14: val_TP did not improve from 22.00000\n",
            "33/33 - 12s - loss: 0.0777 - acc: 0.9697 - auc: 0.9962 - TP: 90.0000 - TN: 38.0000 - FP: 2.0000 - FN: 2.0000 - val_loss: 0.1952 - val_acc: 0.9375 - val_auc: 0.9932 - val_TP: 22.0000 - val_TN: 8.0000 - val_FP: 2.0000 - val_FN: 0.0000e+00 - 12s/epoch - 367ms/step\n",
            "Epoch 15/25\n",
            "\n",
            "Epoch 15: val_TP did not improve from 22.00000\n",
            "33/33 - 12s - loss: 0.0967 - acc: 0.9621 - auc: 0.9943 - TP: 90.0000 - TN: 37.0000 - FP: 3.0000 - FN: 2.0000 - val_loss: 0.1633 - val_acc: 0.9688 - val_auc: 0.9932 - val_TP: 22.0000 - val_TN: 9.0000 - val_FP: 1.0000 - val_FN: 0.0000e+00 - 12s/epoch - 367ms/step\n",
            "Epoch 16/25\n",
            "\n",
            "Epoch 16: val_TP did not improve from 22.00000\n",
            "33/33 - 12s - loss: 0.0574 - acc: 0.9773 - auc: 0.9992 - TP: 89.0000 - TN: 40.0000 - FP: 0.0000e+00 - FN: 3.0000 - val_loss: 0.1921 - val_acc: 0.9375 - val_auc: 0.9909 - val_TP: 22.0000 - val_TN: 8.0000 - val_FP: 2.0000 - val_FN: 0.0000e+00 - 12s/epoch - 367ms/step\n",
            "Epoch 17/25\n",
            "\n",
            "Epoch 17: val_TP did not improve from 22.00000\n",
            "33/33 - 13s - loss: 0.0728 - acc: 0.9545 - auc: 0.9978 - TP: 88.0000 - TN: 38.0000 - FP: 2.0000 - FN: 4.0000 - val_loss: 0.2131 - val_acc: 0.9375 - val_auc: 0.9977 - val_TP: 22.0000 - val_TN: 8.0000 - val_FP: 2.0000 - val_FN: 0.0000e+00 - 13s/epoch - 380ms/step\n",
            "Epoch 18/25\n",
            "\n",
            "Epoch 18: val_TP did not improve from 22.00000\n",
            "33/33 - 13s - loss: 0.0303 - acc: 0.9924 - auc: 1.0000 - TP: 91.0000 - TN: 40.0000 - FP: 0.0000e+00 - FN: 1.0000 - val_loss: 0.1438 - val_acc: 0.9688 - val_auc: 0.9864 - val_TP: 22.0000 - val_TN: 9.0000 - val_FP: 1.0000 - val_FN: 0.0000e+00 - 13s/epoch - 392ms/step\n",
            "Epoch 19/25\n",
            "\n",
            "Epoch 19: val_TP did not improve from 22.00000\n",
            "33/33 - 13s - loss: 0.0260 - acc: 0.9924 - auc: 1.0000 - TP: 91.0000 - TN: 40.0000 - FP: 0.0000e+00 - FN: 1.0000 - val_loss: 0.1558 - val_acc: 0.9688 - val_auc: 0.9795 - val_TP: 22.0000 - val_TN: 9.0000 - val_FP: 1.0000 - val_FN: 0.0000e+00 - 13s/epoch - 390ms/step\n",
            "Epoch 20/25\n",
            "\n",
            "Epoch 20: val_TP did not improve from 22.00000\n",
            "33/33 - 13s - loss: 0.0249 - acc: 1.0000 - auc: 1.0000 - TP: 92.0000 - TN: 40.0000 - FP: 0.0000e+00 - FN: 0.0000e+00 - val_loss: 0.1708 - val_acc: 0.9688 - val_auc: 0.9773 - val_TP: 22.0000 - val_TN: 9.0000 - val_FP: 1.0000 - val_FN: 0.0000e+00 - 13s/epoch - 386ms/step\n",
            "Epoch 21/25\n",
            "\n",
            "Epoch 21: val_TP did not improve from 22.00000\n",
            "33/33 - 12s - loss: 0.0294 - acc: 0.9924 - auc: 1.0000 - TP: 92.0000 - TN: 39.0000 - FP: 1.0000 - FN: 0.0000e+00 - val_loss: 0.1568 - val_acc: 0.9688 - val_auc: 0.9886 - val_TP: 22.0000 - val_TN: 9.0000 - val_FP: 1.0000 - val_FN: 0.0000e+00 - 12s/epoch - 375ms/step\n",
            "Epoch 22/25\n",
            "\n",
            "Epoch 22: val_TP did not improve from 22.00000\n",
            "33/33 - 13s - loss: 0.1083 - acc: 0.9697 - auc: 0.9951 - TP: 90.0000 - TN: 38.0000 - FP: 2.0000 - FN: 2.0000 - val_loss: 0.4312 - val_acc: 0.7500 - val_auc: 1.0000 - val_TP: 14.0000 - val_TN: 10.0000 - val_FP: 0.0000e+00 - val_FN: 8.0000 - 13s/epoch - 388ms/step\n",
            "Epoch 23/25\n",
            "\n",
            "Epoch 23: val_TP did not improve from 22.00000\n",
            "33/33 - 13s - loss: 0.0282 - acc: 0.9924 - auc: 0.9997 - TP: 91.0000 - TN: 40.0000 - FP: 0.0000e+00 - FN: 1.0000 - val_loss: 0.4679 - val_acc: 0.6875 - val_auc: 1.0000 - val_TP: 12.0000 - val_TN: 10.0000 - val_FP: 0.0000e+00 - val_FN: 10.0000 - 13s/epoch - 392ms/step\n",
            "Epoch 24/25\n",
            "\n",
            "Epoch 24: val_TP did not improve from 22.00000\n",
            "33/33 - 13s - loss: 0.0193 - acc: 0.9848 - auc: 1.0000 - TP: 90.0000 - TN: 40.0000 - FP: 0.0000e+00 - FN: 2.0000 - val_loss: 0.2462 - val_acc: 0.8750 - val_auc: 1.0000 - val_TP: 18.0000 - val_TN: 10.0000 - val_FP: 0.0000e+00 - val_FN: 4.0000 - 13s/epoch - 396ms/step\n",
            "Epoch 25/25\n",
            "\n",
            "Epoch 25: val_TP did not improve from 22.00000\n",
            "33/33 - 9s - loss: 0.0181 - acc: 1.0000 - auc: 1.0000 - TP: 92.0000 - TN: 40.0000 - FP: 0.0000e+00 - FN: 0.0000e+00 - val_loss: 0.1718 - val_acc: 0.9688 - val_auc: 1.0000 - val_TP: 21.0000 - val_TN: 10.0000 - val_FP: 0.0000e+00 - val_FN: 1.0000 - 9s/epoch - 265ms/step\n"
          ]
        },
        {
          "data": {
            "text/plain": [
              "<keras.callbacks.History at 0x1b8ed734d00>"
            ]
          },
          "execution_count": 11,
          "metadata": {},
          "output_type": "execute_result"
        }
      ],
      "source": [
        "model.fit(\n",
        "      X_train, y_train,\n",
        "      epochs=25,\n",
        "      batch_size=batch_size,\n",
        "      validation_data=(X_valid, y_valid),\n",
        "      callbacks=callbacks_list,\n",
        "      class_weight=class_weights,\n",
        "      verbose=2)"
      ]
    },
    {
      "cell_type": "markdown",
      "source": [
        "visualisasi hasil proses training dan validation"
      ],
      "metadata": {
        "id": "Zr7reuT5HqfZ"
      }
    },
    {
      "cell_type": "code",
      "execution_count": null,
      "metadata": {
        "colab": {
          "base_uri": "https://localhost:8080/",
          "height": 561
        },
        "id": "0oj0gTIy4k60",
        "outputId": "96345346-d095-4f82-a552-246b702ebe08",
        "scrolled": true
      },
      "outputs": [
        {
          "data": {
            "text/plain": [
              "Text(0.5, 1.0, 'Training and validation loss')"
            ]
          },
          "execution_count": 12,
          "metadata": {},
          "output_type": "execute_result"
        },
        {
          "data": {
            "image/png": "[encoded data removed]",
            "text/plain": [
              "<Figure size 640x480 with 1 Axes>"
            ]
          },
          "metadata": {},
          "output_type": "display_data"
        },
        {
          "data": {
            "image/png": "[encoded data removed]",
            "text/plain": [
              "<Figure size 640x480 with 1 Axes>"
            ]
          },
          "metadata": {},
          "output_type": "display_data"
        }
      ],
      "source": [
        "# Retrieve a list of accuracy results on training and validation data\n",
        "# sets for each training epoch\n",
        "acc = model.history.history['acc']\n",
        "val_acc = model.history.history['val_acc']\n",
        "\n",
        "# Retrieve a list of list results on training and validation data\n",
        "# sets for each training epoch\n",
        "loss = model.history.history['loss']\n",
        "val_loss = model.history.history['val_loss']\n",
        "\n",
        "# Get number of epochs\n",
        "epochs = range(len(acc))\n",
        "\n",
        "# Plot training and validation accuracy per epoch\n",
        "plt.plot(epochs, acc)\n",
        "plt.plot(epochs, val_acc)\n",
        "plt.title('Training and validation accuracy')\n",
        "\n",
        "plt.figure()\n",
        "\n",
        "# Plot training and validation loss per epoch\n",
        "plt.plot(epochs, loss)\n",
        "plt.plot(epochs, val_loss)\n",
        "plt.title('Training and validation loss')"
      ]
    },
    {
      "cell_type": "markdown",
      "source": [
        "Melakukan penyimpanan model yang telah dilatih dan divalidasi"
      ],
      "metadata": {
        "id": "ecral13sH07g"
      }
    },
    {
      "cell_type": "code",
      "execution_count": null,
      "metadata": {
        "id": "yw8-lPBVRaOG"
      },
      "outputs": [],
      "source": [
        "model.save('1.h5')"
      ]
    }
  ],
  "metadata": {
    "accelerator": "GPU",
    "colab": {
      "provenance": []
    },
    "kernelspec": {
      "display_name": "Python 3 (ipykernel)",
      "language": "python",
      "name": "python3"
    },
    "language_info": {
      "codemirror_mode": {
        "name": "ipython",
        "version": 3
      },
      "file_extension": ".py",
      "mimetype": "text/x-python",
      "name": "python",
      "nbconvert_exporter": "python",
      "pygments_lexer": "ipython3",
      "version": "3.9.13"
    }
  },
  "nbformat": 4,
  "nbformat_minor": 0
}